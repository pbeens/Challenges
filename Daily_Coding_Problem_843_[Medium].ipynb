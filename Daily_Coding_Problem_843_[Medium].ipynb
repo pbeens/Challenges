{
  "nbformat": 4,
  "nbformat_minor": 0,
  "metadata": {
    "colab": {
      "name": "Daily Coding Problem #843 [Medium].ipynb",
      "provenance": [],
      "collapsed_sections": [],
      "authorship_tag": "ABX9TyNYvGkay+pnI9KDoZzHCx3h",
      "include_colab_link": true
    },
    "kernelspec": {
      "name": "python3",
      "display_name": "Python 3"
    },
    "language_info": {
      "name": "python"
    }
  },
  "cells": [
    {
      "cell_type": "markdown",
      "metadata": {
        "id": "view-in-github",
        "colab_type": "text"
      },
      "source": [
        "<a href=\"https://colab.research.google.com/github/pbeens/Challenges/blob/master/Daily_Coding_Problem_843_%5BMedium%5D.ipynb\" target=\"_parent\"><img src=\"https://colab.research.google.com/assets/colab-badge.svg\" alt=\"Open In Colab\"/></a>"
      ]
    },
    {
      "cell_type": "markdown",
      "metadata": {
        "id": "ndNZCeI7R4dg"
      },
      "source": [
        "This problem was asked by Microsoft.\n",
        "\n",
        "Given a string and a pattern, find the starting indices of all occurrences of the pattern in the string. For example, given the string \"abracadabra\" and the pattern \"abr\", you should return [0, 7].\n",
        "\n",
        "This notebook is stored [here](https://colab.research.google.com/drive/1D8GKsEEitg-3HCrsYD3xQEvuK1m9PbMJ?usp=sharing) in Colab and [here](https://github.com/pbeens/Challenges/blob/master/Daily_Coding_Problem_843_%5BMedium%5D.ipynb) in my Challenges repository on GitHub."
      ]
    },
    {
      "cell_type": "code",
      "metadata": {
        "colab": {
          "base_uri": "https://localhost:8080/"
        },
        "id": "Ozw7tdrORyJL",
        "outputId": "3a62481e-1b9e-46f8-a881-d01b54118245"
      },
      "source": [
        "def searchForPattern(string, pattern):\n",
        "    locations = [] # to save the locations\n",
        "    for i in range(len(string) - len(pattern)): # step through each starting point in the string\n",
        "        if string.find(pattern, i) != -1: # look for pattern at location i\n",
        "            locations.append(string.find(pattern, i)) # add to locations list\n",
        "    return list(set(locations)) # converting to set removes dupes\n",
        "\n",
        "print(searchForPattern('abracadabra', 'abr'))"
      ],
      "execution_count": 1,
      "outputs": [
        {
          "output_type": "stream",
          "text": [
            "[0, 7]\n"
          ],
          "name": "stdout"
        }
      ]
    }
  ]
}